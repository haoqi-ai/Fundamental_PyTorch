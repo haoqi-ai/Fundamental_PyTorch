{
 "cells": [
  {
   "cell_type": "markdown",
   "id": "e58949b2",
   "metadata": {
    "tags": []
   },
   "source": [
    "## 标题"
   ]
  },
  {
   "cell_type": "markdown",
   "id": "9b24fb9b",
   "metadata": {},
   "source": [
    "*斜体*\n",
    "\n",
    "_斜体2_\n",
    "\n",
    "**加粗字体**\n",
    "\n",
    "`import numpy as np # 单行代码`\n",
    "\n",
    "```json\n",
    "# 多行代码\n",
    "{\n",
    "    \"name\": \"Paul\",\n",
    "    \"age\": 23\n",
    "}\n",
    "```\n",
    "\n",
    "> 引用\n",
    "\n",
    "列表： \n",
    "- 第一个\n",
    "- 第二个\n",
    "\n",
    "TODO： \n",
    "- [x] 第一个\n",
    "- [ ] 第二个\n",
    "\n",
    "图片：  \n",
    "![图片](https://img1.baidu.com/it/u=197141080,635147828&fm=253&fmt=auto&app=138&f=JPEG?w=150&h=113)\n",
    "\n",
    "[链接](https://github.com/haoqi-ai)\n",
    "\n",
    "表格： \n",
    "name|age\n",
    "---|---\n",
    "Paul|23"
   ]
  },
  {
   "cell_type": "code",
   "execution_count": 117,
   "id": "b82d9437",
   "metadata": {},
   "outputs": [
    {
     "name": "stdout",
     "output_type": "stream",
     "text": [
      "Basic.ipynb    NumPy.ipynb    \u001b[1m\u001b[36mdata\u001b[m\u001b[m           \u001b[1m\u001b[36mexit\u001b[m\u001b[m\n",
      "Notebook.ipynb \u001b[1m\u001b[36m__pycache__\u001b[m\u001b[m    demo.py        \u001b[1m\u001b[36mtianchi\u001b[m\u001b[m\n"
     ]
    }
   ],
   "source": [
    "!ls"
   ]
  },
  {
   "cell_type": "code",
   "execution_count": 11,
   "id": "17cc63c4",
   "metadata": {
    "scrolled": true
   },
   "outputs": [
    {
     "name": "stdout",
     "output_type": "stream",
     "text": [
      "organization\testablished\tceo\n",
      "Google\t1998\tSundar Pichai\n",
      "Microsoft\t1975\tSatya Nadella\n",
      "Nokia\t1865\tRajeev Suri"
     ]
    }
   ],
   "source": [
    "!head data/table.txt"
   ]
  },
  {
   "cell_type": "code",
   "execution_count": 12,
   "id": "33b8898a",
   "metadata": {
    "scrolled": true
   },
   "outputs": [
    {
     "name": "stdout",
     "output_type": "stream",
     "text": [
      "       8\n"
     ]
    }
   ],
   "source": [
    "!ls | wc -l"
   ]
  },
  {
   "cell_type": "code",
   "execution_count": 13,
   "id": "f6526311",
   "metadata": {},
   "outputs": [
    {
     "name": "stdout",
     "output_type": "stream",
     "text": [
      "def add(a: int, b: int) -> int:\n",
      "    return a + b\n",
      "\n",
      "\n",
      "a = 10\n",
      "b = 10\n",
      "res = add(a, b)\n",
      "print(res)\n"
     ]
    }
   ],
   "source": [
    "!cat demo.py"
   ]
  },
  {
   "cell_type": "code",
   "execution_count": 18,
   "id": "d253b6df",
   "metadata": {
    "scrolled": true
   },
   "outputs": [
    {
     "name": "stdout",
     "output_type": "stream",
     "text": [
      "20\n"
     ]
    }
   ],
   "source": [
    "!python3.8 demo.py"
   ]
  },
  {
   "cell_type": "code",
   "execution_count": 17,
   "id": "a22ed1a0",
   "metadata": {},
   "outputs": [
    {
     "name": "stdout",
     "output_type": "stream",
     "text": [
      "/usr/bin/python\n"
     ]
    }
   ],
   "source": [
    "!which python"
   ]
  },
  {
   "cell_type": "code",
   "execution_count": null,
   "id": "8dad0488",
   "metadata": {},
   "outputs": [],
   "source": [
    "!pip install ..."
   ]
  },
  {
   "cell_type": "code",
   "execution_count": 1,
   "id": "4351a7b1",
   "metadata": {},
   "outputs": [
    {
     "data": {
      "application/json": {
       "cell": {
        "!": "OSMagics",
        "HTML": "Other",
        "SVG": "Other",
        "bash": "Other",
        "capture": "ExecutionMagics",
        "code_wrap": "ExecutionMagics",
        "debug": "ExecutionMagics",
        "file": "Other",
        "html": "DisplayMagics",
        "javascript": "DisplayMagics",
        "js": "DisplayMagics",
        "latex": "DisplayMagics",
        "markdown": "DisplayMagics",
        "perl": "Other",
        "prun": "ExecutionMagics",
        "pypy": "Other",
        "python": "Other",
        "python2": "Other",
        "python3": "Other",
        "ruby": "Other",
        "script": "ScriptMagics",
        "sh": "Other",
        "svg": "DisplayMagics",
        "sx": "OSMagics",
        "system": "OSMagics",
        "time": "ExecutionMagics",
        "timeit": "ExecutionMagics",
        "writefile": "OSMagics"
       },
       "line": {
        "alias": "OSMagics",
        "alias_magic": "BasicMagics",
        "autoawait": "AsyncMagics",
        "autocall": "AutoMagics",
        "automagic": "AutoMagics",
        "autosave": "KernelMagics",
        "bookmark": "OSMagics",
        "cat": "Other",
        "cd": "OSMagics",
        "clear": "KernelMagics",
        "code_wrap": "ExecutionMagics",
        "colors": "BasicMagics",
        "conda": "PackagingMagics",
        "config": "ConfigMagics",
        "connect_info": "KernelMagics",
        "cp": "Other",
        "debug": "ExecutionMagics",
        "dhist": "OSMagics",
        "dirs": "OSMagics",
        "doctest_mode": "BasicMagics",
        "ed": "Other",
        "edit": "KernelMagics",
        "env": "OSMagics",
        "gui": "BasicMagics",
        "hist": "Other",
        "history": "HistoryMagics",
        "killbgscripts": "ScriptMagics",
        "ldir": "Other",
        "less": "KernelMagics",
        "lf": "Other",
        "lk": "Other",
        "ll": "Other",
        "load": "CodeMagics",
        "load_ext": "ExtensionMagics",
        "loadpy": "CodeMagics",
        "logoff": "LoggingMagics",
        "logon": "LoggingMagics",
        "logstart": "LoggingMagics",
        "logstate": "LoggingMagics",
        "logstop": "LoggingMagics",
        "ls": "Other",
        "lsmagic": "BasicMagics",
        "lx": "Other",
        "macro": "ExecutionMagics",
        "magic": "BasicMagics",
        "man": "KernelMagics",
        "matplotlib": "PylabMagics",
        "mkdir": "Other",
        "more": "KernelMagics",
        "mv": "Other",
        "notebook": "BasicMagics",
        "page": "BasicMagics",
        "pastebin": "CodeMagics",
        "pdb": "ExecutionMagics",
        "pdef": "NamespaceMagics",
        "pdoc": "NamespaceMagics",
        "pfile": "NamespaceMagics",
        "pinfo": "NamespaceMagics",
        "pinfo2": "NamespaceMagics",
        "pip": "PackagingMagics",
        "popd": "OSMagics",
        "pprint": "BasicMagics",
        "precision": "BasicMagics",
        "prun": "ExecutionMagics",
        "psearch": "NamespaceMagics",
        "psource": "NamespaceMagics",
        "pushd": "OSMagics",
        "pwd": "OSMagics",
        "pycat": "OSMagics",
        "pylab": "PylabMagics",
        "qtconsole": "KernelMagics",
        "quickref": "BasicMagics",
        "recall": "HistoryMagics",
        "rehashx": "OSMagics",
        "reload_ext": "ExtensionMagics",
        "rep": "Other",
        "rerun": "HistoryMagics",
        "reset": "NamespaceMagics",
        "reset_selective": "NamespaceMagics",
        "rm": "Other",
        "rmdir": "Other",
        "run": "ExecutionMagics",
        "save": "CodeMagics",
        "sc": "OSMagics",
        "set_env": "OSMagics",
        "store": "StoreMagics",
        "sx": "OSMagics",
        "system": "OSMagics",
        "tb": "ExecutionMagics",
        "time": "ExecutionMagics",
        "timeit": "ExecutionMagics",
        "unalias": "OSMagics",
        "unload_ext": "ExtensionMagics",
        "who": "NamespaceMagics",
        "who_ls": "NamespaceMagics",
        "whos": "NamespaceMagics",
        "xdel": "NamespaceMagics",
        "xmode": "BasicMagics"
       }
      },
      "text/plain": [
       "Available line magics:\n",
       "%alias  %alias_magic  %autoawait  %autocall  %automagic  %autosave  %bookmark  %cat  %cd  %clear  %code_wrap  %colors  %conda  %config  %connect_info  %cp  %debug  %dhist  %dirs  %doctest_mode  %ed  %edit  %env  %gui  %hist  %history  %killbgscripts  %ldir  %less  %lf  %lk  %ll  %load  %load_ext  %loadpy  %logoff  %logon  %logstart  %logstate  %logstop  %ls  %lsmagic  %lx  %macro  %magic  %man  %matplotlib  %mkdir  %more  %mv  %notebook  %page  %pastebin  %pdb  %pdef  %pdoc  %pfile  %pinfo  %pinfo2  %pip  %popd  %pprint  %precision  %prun  %psearch  %psource  %pushd  %pwd  %pycat  %pylab  %qtconsole  %quickref  %recall  %rehashx  %reload_ext  %rep  %rerun  %reset  %reset_selective  %rm  %rmdir  %run  %save  %sc  %set_env  %store  %sx  %system  %tb  %time  %timeit  %unalias  %unload_ext  %who  %who_ls  %whos  %xdel  %xmode\n",
       "\n",
       "Available cell magics:\n",
       "%%!  %%HTML  %%SVG  %%bash  %%capture  %%code_wrap  %%debug  %%file  %%html  %%javascript  %%js  %%latex  %%markdown  %%perl  %%prun  %%pypy  %%python  %%python2  %%python3  %%ruby  %%script  %%sh  %%svg  %%sx  %%system  %%time  %%timeit  %%writefile\n",
       "\n",
       "Automagic is ON, % prefix IS NOT needed for line magics."
      ]
     },
     "execution_count": 1,
     "metadata": {},
     "output_type": "execute_result"
    }
   ],
   "source": [
    "%lsmagic"
   ]
  },
  {
   "cell_type": "code",
   "execution_count": 109,
   "id": "c3c1945a",
   "metadata": {},
   "outputs": [
    {
     "name": "stdout",
     "output_type": "stream",
     "text": [
      "env: PROFILE=dev\n"
     ]
    }
   ],
   "source": [
    "# 设置环境变量\n",
    "%env PROFILE=dev"
   ]
  },
  {
   "cell_type": "code",
   "execution_count": 114,
   "id": "542a857a",
   "metadata": {},
   "outputs": [
    {
     "name": "stdout",
     "output_type": "stream",
     "text": [
      "dev\n"
     ]
    }
   ],
   "source": [
    "# 显示环境变量\n",
    "!echo $PROFILE"
   ]
  },
  {
   "cell_type": "code",
   "execution_count": 116,
   "id": "a9327d1e",
   "metadata": {},
   "outputs": [
    {
     "data": {
      "text/plain": [
       "'dev'"
      ]
     },
     "execution_count": 116,
     "metadata": {},
     "output_type": "execute_result"
    }
   ],
   "source": [
    "import os\n",
    "os.environ.get(\"PROFILE\")"
   ]
  },
  {
   "cell_type": "code",
   "execution_count": 2,
   "id": "ee956ed9",
   "metadata": {},
   "outputs": [],
   "source": [
    "def choose_sort(arr: list) -> list:\n",
    "    length = len(arr)\n",
    "    for i in range(length):\n",
    "        min_idx = i\n",
    "        for j in range(i, length):\n",
    "            if arr[j] < arr[min_idx]:\n",
    "                min_idx = j\n",
    "        if min_idx != i:\n",
    "            arr[i], arr[min_idx] = arr[min_idx], arr[i]\n",
    "    return arr\n",
    "\n",
    "def quick_sort(arr: list) -> list:\n",
    "    \n",
    "    def qs(arr, l, r):\n",
    "        if l < r:\n",
    "            p = partion(arr, l, r)\n",
    "            qs(arr, l, p-1)\n",
    "            qs(arr, p, r)\n",
    "\n",
    "    def partion(arr: list, l: int, r: int) -> int:\n",
    "        pivot = arr[l + (r-l)//2]\n",
    "        while l<= r:\n",
    "            while arr[l] < pivot:\n",
    "                l += 1\n",
    "            while arr[r] > pivot:\n",
    "                r -= 1\n",
    "            if l <= r:\n",
    "                arr[l], arr[r] = arr[r], arr[l]\n",
    "                l += 1\n",
    "                r -= 1\n",
    "        return l\n",
    "    \n",
    "    l, r = 0, len(arr) - 1\n",
    "    qs(arr, l, r)\n",
    "    return arr"
   ]
  },
  {
   "cell_type": "code",
   "execution_count": 3,
   "id": "47797997",
   "metadata": {},
   "outputs": [],
   "source": [
    "import random\n",
    "lst = [random.randint(1, 1000) for i in range(1000)]"
   ]
  },
  {
   "cell_type": "code",
   "execution_count": 4,
   "id": "d09a31e7",
   "metadata": {},
   "outputs": [
    {
     "name": "stdout",
     "output_type": "stream",
     "text": [
      "14.2 ms ± 65.2 µs per loop (mean ± std. dev. of 7 runs, 100 loops each)\n"
     ]
    }
   ],
   "source": [
    "# 用timeit评估运行效率\n",
    "%timeit choose_sort(lst)"
   ]
  },
  {
   "cell_type": "code",
   "execution_count": 5,
   "id": "19bee478",
   "metadata": {},
   "outputs": [
    {
     "name": "stdout",
     "output_type": "stream",
     "text": [
      "524 µs ± 2.99 µs per loop (mean ± std. dev. of 7 runs, 1,000 loops each)\n"
     ]
    }
   ],
   "source": [
    "%timeit quick_sort(lst)"
   ]
  },
  {
   "cell_type": "code",
   "execution_count": 6,
   "id": "3b72790e",
   "metadata": {},
   "outputs": [
    {
     "name": "stdout",
     "output_type": "stream",
     "text": [
      "3.82 µs ± 20.3 ns per loop (mean ± std. dev. of 7 runs, 100,000 loops each)\n"
     ]
    }
   ],
   "source": [
    "%timeit sorted(lst)"
   ]
  },
  {
   "cell_type": "code",
   "execution_count": 7,
   "id": "f9b46d51",
   "metadata": {},
   "outputs": [],
   "source": [
    "# 两个%表示多行，且 %%timeit 必须是第一行"
   ]
  },
  {
   "cell_type": "code",
   "execution_count": 8,
   "id": "f86cdc72",
   "metadata": {},
   "outputs": [
    {
     "name": "stdout",
     "output_type": "stream",
     "text": [
      "14.2 ms ± 125 µs per loop (mean ± std. dev. of 7 runs, 100 loops each)\n"
     ]
    }
   ],
   "source": [
    "%%timeit\n",
    "\n",
    "choose_sort(lst)\n",
    "sorted(lst)"
   ]
  },
  {
   "cell_type": "markdown",
   "id": "6a4c127a",
   "metadata": {},
   "source": [
    "其他功能可查看参考文献【2】。"
   ]
  },
  {
   "cell_type": "markdown",
   "id": "f92229f7",
   "metadata": {
    "tags": []
   },
   "source": [
    "## 笔记本 or 草稿纸？"
   ]
  },
  {
   "cell_type": "markdown",
   "id": "446e0d74",
   "metadata": {},
   "source": [
    "随意执行任意代码，就像在草稿纸上涂鸦一样："
   ]
  },
  {
   "cell_type": "code",
   "execution_count": 9,
   "id": "0a10442c",
   "metadata": {},
   "outputs": [
    {
     "data": {
      "text/plain": [
       "3"
      ]
     },
     "execution_count": 9,
     "metadata": {},
     "output_type": "execute_result"
    }
   ],
   "source": [
    "1 + 2"
   ]
  },
  {
   "cell_type": "code",
   "execution_count": 10,
   "id": "99c73084",
   "metadata": {
    "scrolled": true
   },
   "outputs": [
    {
     "data": {
      "text/plain": [
       "27"
      ]
     },
     "execution_count": 10,
     "metadata": {},
     "output_type": "execute_result"
    }
   ],
   "source": [
    "3 ** 3"
   ]
  },
  {
   "cell_type": "code",
   "execution_count": 11,
   "id": "a9eecf94",
   "metadata": {},
   "outputs": [],
   "source": [
    "x = [1, 2, 3]\n",
    "y = [4, 5, 6]"
   ]
  },
  {
   "cell_type": "code",
   "execution_count": 12,
   "id": "43f5aab7",
   "metadata": {},
   "outputs": [
    {
     "data": {
      "text/plain": [
       "[1, 2, 3, 4, 5, 6]"
      ]
     },
     "execution_count": 12,
     "metadata": {},
     "output_type": "execute_result"
    }
   ],
   "source": [
    "sorted(x + y)"
   ]
  },
  {
   "cell_type": "code",
   "execution_count": 13,
   "id": "55d5dc70",
   "metadata": {},
   "outputs": [
    {
     "name": "stdout",
     "output_type": "stream",
     "text": [
      "\u001b[0;31mSignature:\u001b[0m \u001b[0mx\u001b[0m\u001b[0;34m.\u001b[0m\u001b[0mappend\u001b[0m\u001b[0;34m(\u001b[0m\u001b[0mobject\u001b[0m\u001b[0;34m,\u001b[0m \u001b[0;34m/\u001b[0m\u001b[0;34m)\u001b[0m\u001b[0;34m\u001b[0m\u001b[0;34m\u001b[0m\u001b[0m\n",
      "\u001b[0;31mDocstring:\u001b[0m Append object to the end of the list.\n",
      "\u001b[0;31mType:\u001b[0m      builtin_function_or_method"
     ]
    }
   ],
   "source": [
    "# 随时查看接口文档\n",
    "x.append?"
   ]
  },
  {
   "cell_type": "code",
   "execution_count": null,
   "id": "86fba6ab",
   "metadata": {},
   "outputs": [],
   "source": [
    "# 按 tab 补全方法\n",
    "x."
   ]
  },
  {
   "cell_type": "markdown",
   "id": "974f9373",
   "metadata": {},
   "source": [
    "文本支持Markdown格式、也支持LaTeX格式的数学公式："
   ]
  },
  {
   "cell_type": "markdown",
   "id": "89d0667c",
   "metadata": {},
   "source": [
    "$$\n",
    "P(A|B) = \\frac{P(B|A)P(A)}{P(B)} \\\\\n",
    "e^{i \\pi} = 0\n",
    "$$"
   ]
  },
  {
   "cell_type": "markdown",
   "id": "4294c55e",
   "metadata": {},
   "source": [
    "## 参考资料\n",
    "\n",
    "- 【1】[Built-in magic commands — IPython 8.1.1 documentation](https://ipython.readthedocs.io/en/stable/interactive/magics.html)\n",
    "- 【2】Jake VanderPlas，《Pythoon 数据科学手册》，人民邮电出版社，2018年2月"
   ]
  }
 ],
 "metadata": {
  "kernelspec": {
   "display_name": "Python 3 (ipykernel)",
   "language": "python",
   "name": "python3"
  },
  "language_info": {
   "codemirror_mode": {
    "name": "ipython",
    "version": 3
   },
   "file_extension": ".py",
   "mimetype": "text/x-python",
   "name": "python",
   "nbconvert_exporter": "python",
   "pygments_lexer": "ipython3",
   "version": "3.9.18"
  },
  "latex_envs": {
   "LaTeX_envs_menu_present": true,
   "autoclose": false,
   "autocomplete": true,
   "bibliofile": "biblio.bib",
   "cite_by": "apalike",
   "current_citInitial": 1,
   "eqLabelWithNumbers": true,
   "eqNumInitial": 1,
   "hotkeys": {
    "equation": "Ctrl-E",
    "itemize": "Ctrl-I"
   },
   "labels_anchors": false,
   "latex_user_defs": false,
   "report_style_numbering": false,
   "user_envs_cfg": false
  },
  "toc": {
   "base_numbering": 1,
   "nav_menu": {},
   "number_sections": true,
   "sideBar": true,
   "skip_h1_title": false,
   "title_cell": "Table of Contents",
   "title_sidebar": "Contents",
   "toc_cell": false,
   "toc_position": {
    "height": "calc(100% - 180px)",
    "left": "10px",
    "top": "150px",
    "width": "165px"
   },
   "toc_section_display": true,
   "toc_window_display": true
  }
 },
 "nbformat": 4,
 "nbformat_minor": 5
}
